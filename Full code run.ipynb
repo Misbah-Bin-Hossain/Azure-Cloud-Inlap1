{
 "cells": [
  {
   "cell_type": "markdown",
   "metadata": {},
   "source": [
    "# Cloud project: Data pipeline"
   ]
  },
  {
   "cell_type": "markdown",
   "metadata": {},
   "source": [
    "### Started from creating Virtual Machine"
   ]
  },
  {
   "cell_type": "markdown",
   "metadata": {},
   "source": [
    "Installed Bash.\n",
    "\n",
    "created public private key inside\n",
    "using the folowing code\n"
   ]
  },
  {
   "cell_type": "code",
   "execution_count": null,
   "metadata": {
    "vscode": {
     "languageId": "powershell"
    }
   },
   "outputs": [],
   "source": [
    "ssh-keygen -t rsa -b 4096 -C \"Misbah\" -N \"\" -f ~/.ssh/id_rsa\n",
    "\n",
    "then used the public key while creating the virtual machine"
   ]
  },
  {
   "cell_type": "markdown",
   "metadata": {},
   "source": [
    "Created Ubuntu Virtual machin in AZURE Virtual Machine\n",
    "\n",
    "- Got a public Ip which is used to log in to Ubuntu\n",
    "- Loging in Ubunto from bash/Powershell using the public ip from VM\n",
    "- used the folowing codes to install inside ubuntu to update\n"
   ]
  },
  {
   "cell_type": "markdown",
   "metadata": {},
   "source": [
    "### Ubuntu login -\n",
    " ssh azureuser@[my public Ip address]"
   ]
  },
  {
   "cell_type": "code",
   "execution_count": null,
   "metadata": {
    "vscode": {
     "languageId": "powershell"
    }
   },
   "outputs": [],
   "source": [
    "        sudo apt update\n",
    "        sudo apt -y upgrade\n",
    "        sudo apt -y autoremove\n",
    "        sudo apt -y install nano wget curl htop tmux net-tools\n",
    "        pip install azure storage queue\n",
    "        "
   ]
  },
  {
   "cell_type": "markdown",
   "metadata": {},
   "source": [
    "#### Create Storage acount\n",
    "- Created a normal storage account where we can send the data as string\n",
    "- using the connection string from the storage account and the queue name, \n",
    "    established a connection in the python code to send the data to the storage account."
   ]
  },
  {
   "cell_type": "code",
   "execution_count": null,
   "metadata": {},
   "outputs": [],
   "source": [
    "import os\n",
    "import json\n",
    "import random\n",
    "from datetime import datetime\n",
    "from azure.storage.queue import QueueClient, BinaryBase64EncodePolicy\n",
    "from dotenv import load_dotenv\n",
    "\n",
    "load_dotenv()\n",
    "\n",
    "def generate_sample_data(num_records):\n",
    "    data = []\n",
    "    for _ in range(num_records):\n",
    "        record = {\n",
    "            \"timestamp\": str(datetime.now()),\n",
    "            \"temperature\": round(random.uniform(20.0, 30.0), 2),\n",
    "            \"humidity\": round(random.uniform(40.0, 70.0), 2),\n",
    "        }\n",
    "        data.append(record)\n",
    "    return data\n",
    "\n",
    "if __name__ == \"__main__\":\n",
    "    num_records_to_generate = 10  # You can adjust this as needed\n",
    "    sample_data = generate_sample_data(num_records_to_generate)\n",
    "\n",
    "    # Use environment variables\n",
    "    connection_string = os.environ.get('AZURE_STORAGE_CONNECTION_STRING')\n",
    "    queue_name = os.environ.get('AZURE_STORAGE_QUEUE_NAME')\n",
    "\n",
    "    if not connection_string or not queue_name:\n",
    "        raise ValueError(\"Please set the AZURE_STORAGE_CONNECTION_STRING and AZURE_STORAGE_QUEUE_NAME environment variables.\")\n",
    "\n",
    "    queue_client = QueueClient.from_connection_string(\n",
    "        connection_string, \n",
    "        queue_name,\n",
    "        message_encode_policy=BinaryBase64EncodePolicy()\n",
    "    )\n",
    "\n",
    "    try:\n",
    "        for record in sample_data:\n",
    "            message = json.dumps(record).encode('utf-8')  # Convert to bytes\n",
    "            queue_client.send_message(message)\n",
    "        print(f\"{num_records_to_generate} records sent to Azure Storage Queue.\")\n",
    "    except Exception as e:\n",
    "        print(f\"Error sending data: {str(e)}\")"
   ]
  },
  {
   "cell_type": "markdown",
   "metadata": {},
   "source": [
    "### Query used inside Database to create S"
   ]
  },
  {
   "cell_type": "code",
   "execution_count": null,
   "metadata": {
    "vscode": {
     "languageId": "sql"
    }
   },
   "outputs": [],
   "source": [
    "CREATE TABLE dbo.SensorData (\n",
    "    id INT PRIMARY KEY NOT NULL,\n",
    "    timestamp DATETIME NOT NULL,\n",
    "    temperature FLOAT NOT NULL,\n",
    "    humidity FLOAT NOT NULL\n",
    ");\n"
   ]
  },
  {
   "cell_type": "markdown",
   "metadata": {},
   "source": []
  },
  {
   "cell_type": "code",
   "execution_count": null,
   "metadata": {
    "vscode": {
     "languageId": "powershell"
    }
   },
   "outputs": [],
   "source": [
    " sudo systemctl status grafana-server\n",
    " sudo systemctl enable grafana-server\n",
    " sudo systemctl start grafana-serve\n",
    "\n",
    "\n"
   ]
  },
  {
   "cell_type": "markdown",
   "metadata": {},
   "source": []
  },
  {
   "cell_type": "code",
   "execution_count": 2,
   "metadata": {
    "vscode": {
     "languageId": "sql"
    }
   },
   "outputs": [
    {
     "ename": "SyntaxError",
     "evalue": "invalid syntax (1962829240.py, line 1)",
     "output_type": "error",
     "traceback": [
      "\u001b[1;36m  Cell \u001b[1;32mIn[2], line 1\u001b[1;36m\u001b[0m\n\u001b[1;33m    CREATE USER ApplicationUser\u001b[0m\n\u001b[1;37m           ^\u001b[0m\n\u001b[1;31mSyntaxError\u001b[0m\u001b[1;31m:\u001b[0m invalid syntax\n"
     ]
    }
   ],
   "source": [
    "    CREATE USER ApplicationUser \n",
    "\tWITH PASSWORD = 'Kabir.asma20';\n",
    "\n",
    "    ALTER ROLE db_datareader ADD MEMBER ApplicationUser;\n",
    "    ALTER ROLE db_datawriter ADD MEMBER ApplicationUser;\n",
    "    \n",
    "    "
   ]
  },
  {
   "cell_type": "code",
   "execution_count": null,
   "metadata": {
    "vscode": {
     "languageId": "powershell"
    }
   },
   "outputs": [],
   "source": []
  }
 ],
 "metadata": {
  "kernelspec": {
   "display_name": "Python 3",
   "language": "python",
   "name": "python3"
  },
  "language_info": {
   "codemirror_mode": {
    "name": "ipython",
    "version": 3
   },
   "file_extension": ".py",
   "mimetype": "text/x-python",
   "name": "python",
   "nbconvert_exporter": "python",
   "pygments_lexer": "ipython3",
   "version": "3.12.3"
  }
 },
 "nbformat": 4,
 "nbformat_minor": 2
}
